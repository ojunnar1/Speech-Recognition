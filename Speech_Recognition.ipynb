{
  "nbformat": 4,
  "nbformat_minor": 0,
  "metadata": {
    "kernelspec": {
      "display_name": "Python 3",
      "language": "python",
      "name": "python3"
    },
    "language_info": {
      "codemirror_mode": {
        "name": "ipython",
        "version": 3
      },
      "file_extension": ".py",
      "mimetype": "text/x-python",
      "name": "python",
      "nbconvert_exporter": "python",
      "pygments_lexer": "ipython3",
      "version": "3.7.3"
    },
    "colab": {
      "name": "Speech_Recognition.ipynb",
      "provenance": [],
      "collapsed_sections": []
    }
  },
  "cells": [
    {
      "cell_type": "markdown",
      "metadata": {
        "id": "J0_X7rBQg_4C",
        "colab_type": "text"
      },
      "source": [
        "<h1 align=center><font size=5> Speech Recognition </font></h1>"
      ]
    },
    {
      "cell_type": "markdown",
      "metadata": {
        "id": "K3_B1MGig_4E",
        "colab_type": "text"
      },
      "source": [
        "## Table of contents\n",
        "\n",
        "- [Objective](#obj)\n",
        "- [Data](#data)\n",
        "- [Data Preprocessing](#data_preproc)\n",
        "- [Time Domain Model](#time_model)\n",
        "- [Time-Frequency Domain Model](#time_freq_model)"
      ]
    },
    {
      "cell_type": "markdown",
      "metadata": {
        "id": "qEKmZIhgg_4G",
        "colab_type": "text"
      },
      "source": [
        "## Objective <a id='obj'></a>"
      ]
    },
    {
      "cell_type": "markdown",
      "metadata": {
        "id": "TxJQWZzVg_4H",
        "colab_type": "text"
      },
      "source": [
        "In this notebook, we will deal with audio/voice singals. Accordingly, we will build time domain and time-frequency domain models for the purpose of speech classification."
      ]
    },
    {
      "cell_type": "markdown",
      "metadata": {
        "id": "f41VeRNZg_4I",
        "colab_type": "text"
      },
      "source": [
        "## Data <a id='data'></a>"
      ]
    },
    {
      "cell_type": "markdown",
      "metadata": {
        "id": "gvVuV1XIg_4J",
        "colab_type": "text"
      },
      "source": [
        "Here I am using the  Free Spoken Digit Dataset (FSDD), so called \"speech MNIST\" dataset. The dataset contains a set of recorded spoken digits in wav formats. Link to this dataset in the following URL: https://github.com/Jakobovski/free-spoken-digit-dataset"
      ]
    },
    {
      "cell_type": "markdown",
      "metadata": {
        "id": "Q-bc1joTg_4L",
        "colab_type": "text"
      },
      "source": [
        "&#x270d; Download the dataset\n",
        "\n"
      ]
    },
    {
      "cell_type": "code",
      "metadata": {
        "id": "tB6itb7QARQP",
        "colab_type": "code",
        "outputId": "2d641325-55d0-4af4-dcb8-fe5a9e045bed",
        "colab": {
          "base_uri": "https://localhost:8080/",
          "height": 54
        }
      },
      "source": [
        "from google.colab import drive\n",
        "drive.mount('/content/drive')"
      ],
      "execution_count": 0,
      "outputs": [
        {
          "output_type": "stream",
          "text": [
            "Drive already mounted at /content/drive; to attempt to forcibly remount, call drive.mount(\"/content/drive\", force_remount=True).\n"
          ],
          "name": "stdout"
        }
      ]
    },
    {
      "cell_type": "code",
      "metadata": {
        "id": "r4y86DBFg_4N",
        "colab_type": "code",
        "colab": {}
      },
      "source": [
        "#!pip install librosa"
      ],
      "execution_count": 0,
      "outputs": []
    },
    {
      "cell_type": "markdown",
      "metadata": {
        "id": "mujgeKDOg_4Q",
        "colab_type": "text"
      },
      "source": [
        "&#x270d; LibROSA is a python package for music and audio analysis\n",
        "\n",
        " Loading an audio file using librosa.load. To preserve the native sampling rate of the file,here we are using  **`sr=None`.**\n",
        "\n"
      ]
    },
    {
      "cell_type": "code",
      "metadata": {
        "id": "NFet42q8g_4R",
        "colab_type": "code",
        "colab": {}
      },
      "source": [
        "import os\n",
        "import librosa # !pip install librosa\n",
        "\n",
        "audio_path = os.path.join(os.getcwd(), '/content/drive/My Drive/free-spoken-digit-dataset-master/free-spoken-digit-dataset-master/recordings')\n",
        "audio_files = os.listdir(audio_path) \n",
        "\n",
        "sample_audio_file = audio_files[500] # choose a ranodm audio file\n",
        "\n",
        "sample_audio_path = audio_path + '/' + sample_audio_file\n",
        "\n",
        "\n",
        "X, sr = librosa.load(sample_audio_path, sr= None)\n"
      ],
      "execution_count": 0,
      "outputs": []
    },
    {
      "cell_type": "markdown",
      "metadata": {
        "id": "NwZsIO6Ug_4U",
        "colab_type": "text"
      },
      "source": [
        "&#x270d; Displaying the length of the audio array and sampling rate."
      ]
    },
    {
      "cell_type": "code",
      "metadata": {
        "id": "eMFDTZrCg_4V",
        "colab_type": "code",
        "outputId": "2a2643d6-53e6-4afa-d4a1-c3cb4fbea827",
        "colab": {
          "base_uri": "https://localhost:8080/",
          "height": 51
        }
      },
      "source": [
        "print('Audio signal shape:', X.shape  )\n",
        "print('Sampling rate: {} Hz'.format(sr))"
      ],
      "execution_count": 0,
      "outputs": [
        {
          "output_type": "stream",
          "text": [
            "Audio signal shape: (3428,)\n",
            "Sampling rate: 8000 Hz\n"
          ],
          "name": "stdout"
        }
      ]
    },
    {
      "cell_type": "markdown",
      "metadata": {
        "id": "IEAu18Hlg_4Z",
        "colab_type": "text"
      },
      "source": [
        "&#x270d; Length of audio signal in seconds\n",
        "<br>\n"
      ]
    },
    {
      "cell_type": "code",
      "metadata": {
        "id": "b3HN9oSvg_4Z",
        "colab_type": "code",
        "outputId": "0f719749-aa65-4349-9717-1df4be0005ca",
        "colab": {
          "base_uri": "https://localhost:8080/",
          "height": 34
        }
      },
      "source": [
        "print('Audio length: {} seconds'.format(X.shape[0]/sr ))"
      ],
      "execution_count": 0,
      "outputs": [
        {
          "output_type": "stream",
          "text": [
            "Audio length: 0.4285 seconds\n"
          ],
          "name": "stdout"
        }
      ]
    },
    {
      "cell_type": "markdown",
      "metadata": {
        "id": "I3GlzzIOg_4e",
        "colab_type": "text"
      },
      "source": [
        "&#x270d; Playing the chosen audio file "
      ]
    },
    {
      "cell_type": "code",
      "metadata": {
        "id": "sW-qMBYqg_4e",
        "colab_type": "code",
        "outputId": "f6f3f2f2-b503-42da-bcfb-96fcf2de6a09",
        "colab": {
          "base_uri": "https://localhost:8080/",
          "height": 75
        }
      },
      "source": [
        "from IPython.display import Audio\n",
        "\n",
        "Audio(X, rate=sr)"
      ],
      "execution_count": 0,
      "outputs": [
        {
          "output_type": "execute_result",
          "data": {
            "text/html": [
              "\n",
              "                <audio controls=\"controls\" >\n",
              "                    <source src=\"data:audio/wav;base64,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\" type=\"audio/wav\" />\n",
              "                    Your browser does not support the audio element.\n",
              "                </audio>\n",
              "              "
            ],
            "text/plain": [
              "<IPython.lib.display.Audio object>"
            ]
          },
          "metadata": {
            "tags": []
          },
          "execution_count": 99
        }
      ]
    },
    {
      "cell_type": "markdown",
      "metadata": {
        "id": "o52XE19dg_4h",
        "colab_type": "text"
      },
      "source": [
        "&#x270d; Plotting the audio signal in time domain."
      ]
    },
    {
      "cell_type": "code",
      "metadata": {
        "id": "lghmYwIOg_4i",
        "colab_type": "code",
        "outputId": "ca100030-89d4-4d77-e871-971cb2bcaddf",
        "colab": {
          "base_uri": "https://localhost:8080/",
          "height": 298
        }
      },
      "source": [
        "import librosa.display\n",
        "import matplotlib.pyplot as plt\n",
        "%matplotlib inline\n",
        "\n",
        "librosa.display.waveplot(X, sr=sr)"
      ],
      "execution_count": 0,
      "outputs": [
        {
          "output_type": "execute_result",
          "data": {
            "text/plain": [
              "<matplotlib.collections.PolyCollection at 0x7fb5b7429320>"
            ]
          },
          "metadata": {
            "tags": []
          },
          "execution_count": 100
        },
        {
          "output_type": "display_data",
          "data": {
            "image/png": "[encoded data removed]",
            "text/plain": [
              "<Figure size 432x288 with 1 Axes>"
            ]
          },
          "metadata": {
            "tags": []
          }
        }
      ]
    },
    {
      "cell_type": "markdown",
      "metadata": {
        "id": "WA3b7i3sg_4k",
        "colab_type": "text"
      },
      "source": [
        "&#x270d; Displaying the audio signal's spectrogram on a logarithmic scale using *librosa.stft*. Note that, the Short-Time Fourier Transform (STFT) represents a signal in the time-frequency domain by computing discrete Fourier transforms (DFT) over short overlapping windows.\n",
        "\n",
        "\n",
        "\n",
        "\n"
      ]
    },
    {
      "cell_type": "code",
      "metadata": {
        "id": "BrqTWI1tg_4l",
        "colab_type": "code",
        "outputId": "83facba7-3230-4370-c578-2e51df54c08d",
        "colab": {
          "base_uri": "https://localhost:8080/",
          "height": 461
        }
      },
      "source": [
        "import numpy as np\n",
        "\n",
        "n_fft = 1024\n",
        "hop_length = 512\n",
        "stft = librosa.stft(X, n_fft=n_fft, hop_length=hop_length)\n",
        "stft_magnitude, stft_phase = librosa.magphase(stft)\n",
        "stft_magnitude_dB = librosa.amplitude_to_db(stft_magnitude * stft_magnitude, ref = np.max)\n",
        "#Xdb = librosa.amplitude_to_db(abs(stft))\n",
        "#stft_magnitude_dB = librosa.magnitude_dB(abs(X))\n",
        "\n",
        "plt.figure(figsize=(12, 6))\n",
        "librosa.display.specshow(stft_magnitude_dB, x_axis='time' ,y_axis='log', sr=sr,hop_length= hop_length)\n",
        "plt.title('Power spectrogram')\n",
        "plt.colorbar(format='%+2.0f dB')\n",
        "plt.tight_layout()\n",
        "plt.show()"
      ],
      "execution_count": 0,
      "outputs": [
        {
          "output_type": "display_data",
          "data": {
            "image/png": "[encoded data removed]",
            "text/plain": [
              "<Figure size 864x432 with 2 Axes>"
            ]
          },
          "metadata": {
            "tags": []
          }
        }
      ]
    },
    {
      "cell_type": "markdown",
      "metadata": {
        "id": "tZynBha7g_4o",
        "colab_type": "text"
      },
      "source": [
        "&#x270d; Hop length in seconds"
      ]
    },
    {
      "cell_type": "code",
      "metadata": {
        "id": "--ZRXnMxg_4o",
        "colab_type": "code",
        "outputId": "60decd47-de43-4999-cea6-ec44a5e840b1",
        "colab": {
          "base_uri": "https://localhost:8080/",
          "height": 34
        }
      },
      "source": [
        "print('Hop length: {} seconds'.format(hop_length/sr)) "
      ],
      "execution_count": 0,
      "outputs": [
        {
          "output_type": "stream",
          "text": [
            "Hop length: 0.064 seconds\n"
          ],
          "name": "stdout"
        }
      ]
    },
    {
      "cell_type": "markdown",
      "metadata": {
        "id": "ULhte114g_4t",
        "colab_type": "text"
      },
      "source": [
        "## Data Preprocessing <a id='data_preproc'></a>"
      ]
    },
    {
      "cell_type": "markdown",
      "metadata": {
        "id": "jigVL8P0g_4u",
        "colab_type": "text"
      },
      "source": [
        "&#x270d; Finding duration in seconds and sampling rate. Then, plotting their distributions."
      ]
    },
    {
      "cell_type": "code",
      "metadata": {
        "id": "o-y5FTVeg_4u",
        "colab_type": "code",
        "outputId": "03efeac1-c042-46d0-f0dc-0c1ff82de74b",
        "colab": {
          "base_uri": "https://localhost:8080/",
          "height": 407
        }
      },
      "source": [
        "audio_path = os.path.join(os.getcwd(), '/content/drive/My Drive/free-spoken-digit-dataset-master/free-spoken-digit-dataset-master/recordings')\n",
        "audio_files = os.listdir(audio_path)\n",
        "\n",
        "all_audios_sr = []\n",
        "all_audios_duration = []\n",
        "for audio_file in audio_files:\n",
        "  audio, sr = librosa.load(audio_path + '/'+ audio_file, sr = None)\n",
        "\n",
        "  all_audios_sr.append(sr)\n",
        "  all_audios_duration.append(len(audio)/sr)\n",
        "\n",
        "all_audios_duration = np.asarray(all_audios_duration)\n",
        "all_audios_sr = np.asarray(all_audios_sr)\n",
        "\n",
        "plt.figure(figsize = (14,6))\n",
        "plt.subplot(1,2,1)\n",
        "plt.hist(all_audios_sr);\n",
        "\n",
        "plt.subplot(1,2,2)\n",
        "plt.hist(all_audios_duration, bins =100);\n"
      ],
      "execution_count": 0,
      "outputs": [
        {
          "output_type": "display_data",
          "data": {
            "image/png": "[encoded data removed]",
            "text/plain": [
              "<Figure size 1008x432 with 2 Axes>"
            ]
          },
          "metadata": {
            "tags": []
          }
        }
      ]
    },
    {
      "cell_type": "markdown",
      "metadata": {
        "id": "HSfK7frog_4w",
        "colab_type": "text"
      },
      "source": [
        "&#x270d; Clipping or padding audio signals to have one second duration for all audios. Extracting the audio labels as well and keeping audio signals from speaker 'jackson' for test set, and the rest speakers for training.\n",
        "\n",
        "Dataformat Number_NAME_recordnumber.wav"
      ]
    },
    {
      "cell_type": "code",
      "metadata": {
        "id": "bBim6P7Ng_4x",
        "colab_type": "code",
        "colab": {}
      },
      "source": [
        "audio_duration_sec = 1\n",
        "\n",
        "pad = lambda a, n: a[:n] if a.shape[0] > n else np.hstack((a, np.zeros(n - a.shape[0])))\n",
        "\n",
        "X_train, y_train = [], []\n",
        "X_test, y_test = [], []\n",
        "for audio_file in audio_files:\n",
        "    \n",
        "    audio, sr = librosa.load(audio_path +'/'+ audio_file, sr = None)\n",
        "    \n",
        "    X = pad(audio, int(audio_duration_sec*sr))\n",
        "    label = audio_file.split('_')[0]\n",
        "    speaker = audio_file.split('_')[1]\n",
        "    \n",
        "    if (speaker=='jackson'):\n",
        "        X_test.append(X)\n",
        "        y_test.append(label)\n",
        "    else:\n",
        "        X_train.append(X)\n",
        "        y_train.append(label)\n",
        "        \n",
        "X_train = np.asarray(X_train)\n",
        "y_train = np.asarray(y_train)\n",
        "\n",
        "X_test = np.asarray(X_test)\n",
        "y_test = np.asarray(y_test)"
      ],
      "execution_count": 0,
      "outputs": []
    },
    {
      "cell_type": "code",
      "metadata": {
        "id": "ZKPr8fFOg_4z",
        "colab_type": "code",
        "outputId": "b164c4d4-8643-4ee2-c373-7e6385c0d05b",
        "colab": {
          "base_uri": "https://localhost:8080/",
          "height": 51
        }
      },
      "source": [
        "print('X_train shape:', X_train.shape)\n",
        "print('X_test shape:', X_test.shape)"
      ],
      "execution_count": 0,
      "outputs": [
        {
          "output_type": "stream",
          "text": [
            "X_train shape: (1510, 8000)\n",
            "X_test shape: (500, 8000)\n"
          ],
          "name": "stdout"
        }
      ]
    },
    {
      "cell_type": "markdown",
      "metadata": {
        "id": "q04OhEYGg_42",
        "colab_type": "text"
      },
      "source": [
        "&#x270d; Converting the labels to a one-hot vector. "
      ]
    },
    {
      "cell_type": "code",
      "metadata": {
        "id": "a7XHQu1zg_43",
        "colab_type": "code",
        "colab": {}
      },
      "source": [
        "from keras.utils.np_utils import to_categorical\n",
        "\n",
        "y_train = to_categorical(y_train)\n",
        "y_test =  to_categorical(y_test)"
      ],
      "execution_count": 0,
      "outputs": []
    },
    {
      "cell_type": "code",
      "metadata": {
        "id": "fQ2A2APWg_45",
        "colab_type": "code",
        "outputId": "ca79321c-e433-4c95-a9aa-48c4f32b9dc1",
        "colab": {
          "base_uri": "https://localhost:8080/",
          "height": 51
        }
      },
      "source": [
        "print('y_train shape:', y_train.shape)\n",
        "print('y_test shape:', y_test.shape)"
      ],
      "execution_count": 0,
      "outputs": [
        {
          "output_type": "stream",
          "text": [
            "y_train shape: (1510, 10)\n",
            "y_test shape: (500, 10)\n"
          ],
          "name": "stdout"
        }
      ]
    },
    {
      "cell_type": "markdown",
      "metadata": {
        "id": "o3QZDJt9g_48",
        "colab_type": "text"
      },
      "source": [
        "## Time Domain Model <a id='time_model'></a>"
      ]
    },
    {
      "cell_type": "markdown",
      "metadata": {
        "id": "eaMyepeXg_4-",
        "colab_type": "text"
      },
      "source": [
        "&#x270d; Building a model based on time domain input signals and evaluating its classification performance. "
      ]
    },
    {
      "cell_type": "code",
      "metadata": {
        "id": "QFTRVCNMg_4_",
        "colab_type": "code",
        "outputId": "523040e7-3012-4ced-af45-da9de64ffd99",
        "colab": {
          "base_uri": "https://localhost:8080/",
          "height": 391
        }
      },
      "source": [
        "# Creating the model\n",
        "from keras.models import Sequential\n",
        "from keras.layers import Dense, Dropout\n",
        "\n",
        "model = Sequential()\n",
        "model.add(Dense(256, activation='relu', input_dim= X_train.shape[1]))\n",
        "model.add(Dropout(0.25))\n",
        "model.add(Dense(128, activation='relu'))\n",
        "model.add(Dropout(0.25))\n",
        "model.add(Dense(64, activation ='relu'))\n",
        "model.add(Dropout(0.25))\n",
        "model.add(Dense(10, activation='softmax'))\n",
        "model.summary()"
      ],
      "execution_count": 0,
      "outputs": [
        {
          "output_type": "stream",
          "text": [
            "Model: \"sequential_8\"\n",
            "_________________________________________________________________\n",
            "Layer (type)                 Output Shape              Param #   \n",
            "=================================================================\n",
            "dense_19 (Dense)             (None, 256)               2048256   \n",
            "_________________________________________________________________\n",
            "dropout_15 (Dropout)         (None, 256)               0         \n",
            "_________________________________________________________________\n",
            "dense_20 (Dense)             (None, 128)               32896     \n",
            "_________________________________________________________________\n",
            "dropout_16 (Dropout)         (None, 128)               0         \n",
            "_________________________________________________________________\n",
            "dense_21 (Dense)             (None, 64)                8256      \n",
            "_________________________________________________________________\n",
            "dropout_17 (Dropout)         (None, 64)                0         \n",
            "_________________________________________________________________\n",
            "dense_22 (Dense)             (None, 10)                650       \n",
            "=================================================================\n",
            "Total params: 2,090,058\n",
            "Trainable params: 2,090,058\n",
            "Non-trainable params: 0\n",
            "_________________________________________________________________\n"
          ],
          "name": "stdout"
        }
      ]
    },
    {
      "cell_type": "code",
      "metadata": {
        "id": "HCZo0Z-gg_5B",
        "colab_type": "code",
        "outputId": "8bf2b246-4e28-49ff-a4f5-e89c678d7adc",
        "colab": {
          "base_uri": "https://localhost:8080/",
          "height": 1000
        }
      },
      "source": [
        "# Compile the model\n",
        "model.compile(loss='categorical_crossentropy', optimizer='adam', metrics=['accuracy'])\n",
        "\n",
        "# Fit the model\n",
        "history = model.fit(X_train, y_train, epochs=100, batch_size=64, validation_split =0.2, shuffle=True, verbose=1)\n",
        "\n"
      ],
      "execution_count": 0,
      "outputs": [
        {
          "output_type": "stream",
          "text": [
            "Train on 1208 samples, validate on 302 samples\n",
            "Epoch 1/100\n",
            "1208/1208 [==============================] - 2s 1ms/step - loss: 2.2883 - acc: 0.1316 - val_loss: 2.4459 - val_acc: 0.0000e+00\n",
            "Epoch 2/100\n",
            "1208/1208 [==============================] - 1s 673us/step - loss: 2.1941 - acc: 0.1614 - val_loss: 2.9168 - val_acc: 0.0000e+00\n",
            "Epoch 3/100\n",
            "1208/1208 [==============================] - 1s 667us/step - loss: 2.0537 - acc: 0.2144 - val_loss: 3.6565 - val_acc: 0.0000e+00\n",
            "Epoch 4/100\n",
            "1208/1208 [==============================] - 1s 667us/step - loss: 1.8706 - acc: 0.3030 - val_loss: 4.3902 - val_acc: 0.0000e+00\n",
            "Epoch 5/100\n",
            "1208/1208 [==============================] - 1s 672us/step - loss: 1.6987 - acc: 0.3667 - val_loss: 4.9740 - val_acc: 0.0000e+00\n",
            "Epoch 6/100\n",
            "1208/1208 [==============================] - 1s 664us/step - loss: 1.4961 - acc: 0.4776 - val_loss: 5.5420 - val_acc: 0.0000e+00\n",
            "Epoch 7/100\n",
            "1208/1208 [==============================] - 1s 662us/step - loss: 1.2928 - acc: 0.5654 - val_loss: 6.1046 - val_acc: 0.0000e+00\n",
            "Epoch 8/100\n",
            "1208/1208 [==============================] - 1s 678us/step - loss: 1.1474 - acc: 0.6300 - val_loss: 6.5685 - val_acc: 0.0000e+00\n",
            "Epoch 9/100\n",
            "1208/1208 [==============================] - 1s 683us/step - loss: 0.9666 - acc: 0.6987 - val_loss: 7.0579 - val_acc: 0.0000e+00\n",
            "Epoch 10/100\n",
            "1208/1208 [==============================] - 1s 674us/step - loss: 0.8080 - acc: 0.7616 - val_loss: 7.7666 - val_acc: 0.0000e+00\n",
            "Epoch 11/100\n",
            "1208/1208 [==============================] - 1s 672us/step - loss: 0.6999 - acc: 0.7930 - val_loss: 8.0292 - val_acc: 0.0000e+00\n",
            "Epoch 12/100\n",
            "1208/1208 [==============================] - 1s 670us/step - loss: 0.5985 - acc: 0.8344 - val_loss: 7.9807 - val_acc: 0.0000e+00\n",
            "Epoch 13/100\n",
            "1208/1208 [==============================] - 1s 672us/step - loss: 0.4754 - acc: 0.8684 - val_loss: 8.5703 - val_acc: 0.0000e+00\n",
            "Epoch 14/100\n",
            "1208/1208 [==============================] - 1s 679us/step - loss: 0.4208 - acc: 0.8916 - val_loss: 8.8594 - val_acc: 0.0000e+00\n",
            "Epoch 15/100\n",
            "1208/1208 [==============================] - 1s 676us/step - loss: 0.3481 - acc: 0.9081 - val_loss: 8.9077 - val_acc: 0.0000e+00\n",
            "Epoch 16/100\n",
            "1208/1208 [==============================] - 1s 661us/step - loss: 0.3028 - acc: 0.9354 - val_loss: 9.0394 - val_acc: 0.0000e+00\n",
            "Epoch 17/100\n",
            "1208/1208 [==============================] - 1s 669us/step - loss: 0.2704 - acc: 0.9396 - val_loss: 9.2356 - val_acc: 0.0000e+00\n",
            "Epoch 18/100\n",
            "1208/1208 [==============================] - 1s 657us/step - loss: 0.2334 - acc: 0.9528 - val_loss: 9.3293 - val_acc: 0.0000e+00\n",
            "Epoch 19/100\n",
            "1208/1208 [==============================] - 1s 678us/step - loss: 0.1974 - acc: 0.9570 - val_loss: 9.4889 - val_acc: 0.0000e+00\n",
            "Epoch 20/100\n",
            "1208/1208 [==============================] - 1s 661us/step - loss: 0.1790 - acc: 0.9661 - val_loss: 9.8728 - val_acc: 0.0000e+00\n",
            "Epoch 21/100\n",
            "1208/1208 [==============================] - 1s 663us/step - loss: 0.1411 - acc: 0.9735 - val_loss: 9.7534 - val_acc: 0.0000e+00\n",
            "Epoch 22/100\n",
            "1208/1208 [==============================] - 1s 671us/step - loss: 0.1314 - acc: 0.9793 - val_loss: 9.8323 - val_acc: 0.0000e+00\n",
            "Epoch 23/100\n",
            "1208/1208 [==============================] - 1s 669us/step - loss: 0.1096 - acc: 0.9834 - val_loss: 9.9659 - val_acc: 0.0000e+00\n",
            "Epoch 24/100\n",
            "1208/1208 [==============================] - 1s 669us/step - loss: 0.1126 - acc: 0.9785 - val_loss: 10.3442 - val_acc: 0.0000e+00\n",
            "Epoch 25/100\n",
            "1208/1208 [==============================] - 1s 675us/step - loss: 0.0973 - acc: 0.9818 - val_loss: 10.3765 - val_acc: 0.0000e+00\n",
            "Epoch 26/100\n",
            "1208/1208 [==============================] - 1s 672us/step - loss: 0.0900 - acc: 0.9810 - val_loss: 10.3550 - val_acc: 0.0000e+00\n",
            "Epoch 27/100\n",
            "1208/1208 [==============================] - 1s 682us/step - loss: 0.0834 - acc: 0.9859 - val_loss: 10.3012 - val_acc: 0.0000e+00\n",
            "Epoch 28/100\n",
            "1208/1208 [==============================] - 1s 673us/step - loss: 0.0829 - acc: 0.9826 - val_loss: 10.4161 - val_acc: 0.0033\n",
            "Epoch 29/100\n",
            "1208/1208 [==============================] - 1s 674us/step - loss: 0.0748 - acc: 0.9901 - val_loss: 10.5628 - val_acc: 0.0000e+00\n",
            "Epoch 30/100\n",
            "1208/1208 [==============================] - 1s 654us/step - loss: 0.0719 - acc: 0.9884 - val_loss: 10.6138 - val_acc: 0.0033\n",
            "Epoch 31/100\n",
            "1208/1208 [==============================] - 1s 666us/step - loss: 0.0620 - acc: 0.9925 - val_loss: 10.6464 - val_acc: 0.0033\n",
            "Epoch 32/100\n",
            "1208/1208 [==============================] - 1s 674us/step - loss: 0.0567 - acc: 0.9884 - val_loss: 10.5700 - val_acc: 0.0033\n",
            "Epoch 33/100\n",
            "1208/1208 [==============================] - 1s 673us/step - loss: 0.0579 - acc: 0.9892 - val_loss: 10.7967 - val_acc: 0.0066\n",
            "Epoch 34/100\n",
            "1208/1208 [==============================] - 1s 690us/step - loss: 0.0478 - acc: 0.9942 - val_loss: 10.7635 - val_acc: 0.0000e+00\n",
            "Epoch 35/100\n",
            "1208/1208 [==============================] - 1s 675us/step - loss: 0.0479 - acc: 0.9925 - val_loss: 10.9343 - val_acc: 0.0033\n",
            "Epoch 36/100\n",
            "1208/1208 [==============================] - 1s 668us/step - loss: 0.0449 - acc: 0.9925 - val_loss: 11.0218 - val_acc: 0.0033\n",
            "Epoch 37/100\n",
            "1208/1208 [==============================] - 1s 680us/step - loss: 0.0403 - acc: 0.9950 - val_loss: 11.2339 - val_acc: 0.0000e+00\n",
            "Epoch 38/100\n",
            "1208/1208 [==============================] - 1s 677us/step - loss: 0.0630 - acc: 0.9834 - val_loss: 11.2328 - val_acc: 0.0000e+00\n",
            "Epoch 39/100\n",
            "1208/1208 [==============================] - 1s 660us/step - loss: 0.0332 - acc: 0.9959 - val_loss: 11.2327 - val_acc: 0.0000e+00\n",
            "Epoch 40/100\n",
            "1208/1208 [==============================] - 1s 680us/step - loss: 0.0715 - acc: 0.9868 - val_loss: 11.3095 - val_acc: 0.0000e+00\n",
            "Epoch 41/100\n",
            "1208/1208 [==============================] - 1s 666us/step - loss: 0.0619 - acc: 0.9892 - val_loss: 11.0400 - val_acc: 0.0000e+00\n",
            "Epoch 42/100\n",
            "1208/1208 [==============================] - 1s 674us/step - loss: 0.0558 - acc: 0.9901 - val_loss: 11.2137 - val_acc: 0.0000e+00\n",
            "Epoch 43/100\n",
            "1208/1208 [==============================] - 1s 674us/step - loss: 0.0478 - acc: 0.9876 - val_loss: 11.0903 - val_acc: 0.0000e+00\n",
            "Epoch 44/100\n",
            "1208/1208 [==============================] - 1s 671us/step - loss: 0.0399 - acc: 0.9934 - val_loss: 11.1899 - val_acc: 0.0000e+00\n",
            "Epoch 45/100\n",
            "1208/1208 [==============================] - 1s 677us/step - loss: 0.0420 - acc: 0.9909 - val_loss: 11.2383 - val_acc: 0.0000e+00\n",
            "Epoch 46/100\n",
            "1208/1208 [==============================] - 1s 652us/step - loss: 0.0309 - acc: 0.9925 - val_loss: 11.1259 - val_acc: 0.0000e+00\n",
            "Epoch 47/100\n",
            "1208/1208 [==============================] - 1s 672us/step - loss: 0.0383 - acc: 0.9934 - val_loss: 11.3233 - val_acc: 0.0000e+00\n",
            "Epoch 48/100\n",
            "1208/1208 [==============================] - 1s 657us/step - loss: 0.0458 - acc: 0.9909 - val_loss: 11.3517 - val_acc: 0.0000e+00\n",
            "Epoch 49/100\n",
            "1208/1208 [==============================] - 1s 672us/step - loss: 0.0288 - acc: 0.9950 - val_loss: 11.4620 - val_acc: 0.0066\n",
            "Epoch 50/100\n",
            "1208/1208 [==============================] - 1s 650us/step - loss: 0.0340 - acc: 0.9942 - val_loss: 11.5193 - val_acc: 0.0066\n",
            "Epoch 51/100\n",
            "1208/1208 [==============================] - 1s 670us/step - loss: 0.0268 - acc: 0.9950 - val_loss: 11.4296 - val_acc: 0.0066\n",
            "Epoch 52/100\n",
            "1208/1208 [==============================] - 1s 660us/step - loss: 0.0215 - acc: 0.9975 - val_loss: 11.4792 - val_acc: 0.0066\n",
            "Epoch 53/100\n",
            "1208/1208 [==============================] - 1s 676us/step - loss: 0.0208 - acc: 0.9992 - val_loss: 11.6249 - val_acc: 0.0066\n",
            "Epoch 54/100\n",
            "1208/1208 [==============================] - 1s 685us/step - loss: 0.0179 - acc: 0.9992 - val_loss: 11.7038 - val_acc: 0.0033\n",
            "Epoch 55/100\n",
            "1208/1208 [==============================] - 1s 664us/step - loss: 0.0125 - acc: 1.0000 - val_loss: 11.8952 - val_acc: 0.0033\n",
            "Epoch 56/100\n",
            "1208/1208 [==============================] - 1s 680us/step - loss: 0.0223 - acc: 0.9959 - val_loss: 12.1252 - val_acc: 0.0033\n",
            "Epoch 57/100\n",
            "1208/1208 [==============================] - 1s 672us/step - loss: 0.0245 - acc: 0.9959 - val_loss: 11.9599 - val_acc: 0.0033\n",
            "Epoch 58/100\n",
            "1208/1208 [==============================] - 1s 676us/step - loss: 0.0356 - acc: 0.9934 - val_loss: 12.0776 - val_acc: 0.0033\n",
            "Epoch 59/100\n",
            "1208/1208 [==============================] - 1s 670us/step - loss: 0.0320 - acc: 0.9934 - val_loss: 11.8813 - val_acc: 0.0033\n",
            "Epoch 60/100\n",
            "1208/1208 [==============================] - 1s 666us/step - loss: 0.0307 - acc: 0.9925 - val_loss: 11.9060 - val_acc: 0.0033\n",
            "Epoch 61/100\n",
            "1208/1208 [==============================] - 1s 675us/step - loss: 0.0500 - acc: 0.9909 - val_loss: 11.7383 - val_acc: 0.0066\n",
            "Epoch 62/100\n",
            "1208/1208 [==============================] - 1s 678us/step - loss: 0.0508 - acc: 0.9925 - val_loss: 11.5776 - val_acc: 0.0099\n",
            "Epoch 63/100\n",
            "1208/1208 [==============================] - 1s 670us/step - loss: 0.0434 - acc: 0.9959 - val_loss: 11.4373 - val_acc: 0.0099\n",
            "Epoch 64/100\n",
            "1208/1208 [==============================] - 1s 667us/step - loss: 0.0391 - acc: 0.9917 - val_loss: 11.6338 - val_acc: 0.0099\n",
            "Epoch 65/100\n",
            "1208/1208 [==============================] - 1s 671us/step - loss: 0.0257 - acc: 0.9967 - val_loss: 11.6443 - val_acc: 0.0099\n",
            "Epoch 66/100\n",
            "1208/1208 [==============================] - 1s 667us/step - loss: 0.0170 - acc: 0.9967 - val_loss: 11.7498 - val_acc: 0.0099\n",
            "Epoch 67/100\n",
            "1208/1208 [==============================] - 1s 688us/step - loss: 0.0466 - acc: 0.9950 - val_loss: 11.4652 - val_acc: 0.0099\n",
            "Epoch 68/100\n",
            "1208/1208 [==============================] - 1s 666us/step - loss: 0.0374 - acc: 0.9934 - val_loss: 11.6349 - val_acc: 0.0099\n",
            "Epoch 69/100\n",
            "1208/1208 [==============================] - 1s 681us/step - loss: 0.0322 - acc: 0.9925 - val_loss: 11.5652 - val_acc: 0.0099\n",
            "Epoch 70/100\n",
            "1208/1208 [==============================] - 1s 671us/step - loss: 0.0240 - acc: 0.9942 - val_loss: 11.8492 - val_acc: 0.0099\n",
            "Epoch 71/100\n",
            "1208/1208 [==============================] - 1s 680us/step - loss: 0.0186 - acc: 0.9975 - val_loss: 11.8198 - val_acc: 0.0099\n",
            "Epoch 72/100\n",
            "1208/1208 [==============================] - 1s 672us/step - loss: 0.0205 - acc: 0.9925 - val_loss: 11.6091 - val_acc: 0.0099\n",
            "Epoch 73/100\n",
            "1208/1208 [==============================] - 1s 674us/step - loss: 0.0145 - acc: 0.9967 - val_loss: 11.8062 - val_acc: 0.0099\n",
            "Epoch 74/100\n",
            "1208/1208 [==============================] - 1s 683us/step - loss: 0.0233 - acc: 0.9975 - val_loss: 11.8629 - val_acc: 0.0033\n",
            "Epoch 75/100\n",
            "1208/1208 [==============================] - 1s 675us/step - loss: 0.0230 - acc: 0.9967 - val_loss: 11.7638 - val_acc: 0.0066\n",
            "Epoch 76/100\n",
            "1208/1208 [==============================] - 1s 682us/step - loss: 0.0253 - acc: 0.9942 - val_loss: 11.7644 - val_acc: 0.0066\n",
            "Epoch 77/100\n",
            "1208/1208 [==============================] - 1s 668us/step - loss: 0.0239 - acc: 0.9942 - val_loss: 11.8645 - val_acc: 0.0099\n",
            "Epoch 78/100\n",
            "1208/1208 [==============================] - 1s 662us/step - loss: 0.0219 - acc: 0.9967 - val_loss: 11.9632 - val_acc: 0.0066\n",
            "Epoch 79/100\n",
            "1208/1208 [==============================] - 1s 671us/step - loss: 0.0404 - acc: 0.9925 - val_loss: 11.7152 - val_acc: 0.0099\n",
            "Epoch 80/100\n",
            "1208/1208 [==============================] - 1s 679us/step - loss: 0.0332 - acc: 0.9925 - val_loss: 11.7599 - val_acc: 0.0099\n",
            "Epoch 81/100\n",
            "1208/1208 [==============================] - 1s 669us/step - loss: 0.0224 - acc: 0.9967 - val_loss: 12.0517 - val_acc: 0.0099\n",
            "Epoch 82/100\n",
            "1208/1208 [==============================] - 1s 667us/step - loss: 0.0249 - acc: 0.9975 - val_loss: 11.9372 - val_acc: 0.0099\n",
            "Epoch 83/100\n",
            "1208/1208 [==============================] - 1s 664us/step - loss: 0.0233 - acc: 0.9934 - val_loss: 11.8447 - val_acc: 0.0099\n",
            "Epoch 84/100\n",
            "1208/1208 [==============================] - 1s 678us/step - loss: 0.0312 - acc: 0.9892 - val_loss: 11.6601 - val_acc: 0.0132\n",
            "Epoch 85/100\n",
            "1208/1208 [==============================] - 1s 666us/step - loss: 0.0271 - acc: 0.9967 - val_loss: 11.6647 - val_acc: 0.0132\n",
            "Epoch 86/100\n",
            "1208/1208 [==============================] - 1s 669us/step - loss: 0.0327 - acc: 0.9959 - val_loss: 12.1700 - val_acc: 0.0033\n",
            "Epoch 87/100\n",
            "1208/1208 [==============================] - 1s 683us/step - loss: 0.0321 - acc: 0.9950 - val_loss: 12.0941 - val_acc: 0.0033\n",
            "Epoch 88/100\n",
            "1208/1208 [==============================] - 1s 687us/step - loss: 0.0220 - acc: 0.9942 - val_loss: 12.0544 - val_acc: 0.0033\n",
            "Epoch 89/100\n",
            "1208/1208 [==============================] - 1s 670us/step - loss: 0.0209 - acc: 0.9975 - val_loss: 12.1437 - val_acc: 0.0033\n",
            "Epoch 90/100\n",
            "1208/1208 [==============================] - 1s 670us/step - loss: 0.0216 - acc: 0.9967 - val_loss: 12.2915 - val_acc: 0.0033\n",
            "Epoch 91/100\n",
            "1208/1208 [==============================] - 1s 682us/step - loss: 0.0354 - acc: 0.9950 - val_loss: 11.9929 - val_acc: 0.0033\n",
            "Epoch 92/100\n",
            "1208/1208 [==============================] - 1s 680us/step - loss: 0.0170 - acc: 0.9983 - val_loss: 12.1632 - val_acc: 0.0033\n",
            "Epoch 93/100\n",
            "1208/1208 [==============================] - 1s 676us/step - loss: 0.0216 - acc: 0.9950 - val_loss: 12.1239 - val_acc: 0.0033\n",
            "Epoch 94/100\n",
            "1208/1208 [==============================] - 1s 672us/step - loss: 0.0336 - acc: 0.9934 - val_loss: 12.1068 - val_acc: 0.0033\n",
            "Epoch 95/100\n",
            "1208/1208 [==============================] - 1s 683us/step - loss: 0.0132 - acc: 0.9975 - val_loss: 12.1167 - val_acc: 0.0066\n",
            "Epoch 96/100\n",
            "1208/1208 [==============================] - 1s 668us/step - loss: 0.0274 - acc: 0.9959 - val_loss: 12.1224 - val_acc: 0.0066\n",
            "Epoch 97/100\n",
            "1208/1208 [==============================] - 1s 675us/step - loss: 0.0277 - acc: 0.9959 - val_loss: 11.9617 - val_acc: 0.0066\n",
            "Epoch 98/100\n",
            "1208/1208 [==============================] - 1s 682us/step - loss: 0.0100 - acc: 0.9983 - val_loss: 12.0663 - val_acc: 0.0033\n",
            "Epoch 99/100\n",
            "1208/1208 [==============================] - 1s 674us/step - loss: 0.0147 - acc: 0.9983 - val_loss: 12.1339 - val_acc: 0.0033\n",
            "Epoch 100/100\n",
            "1208/1208 [==============================] - 1s 668us/step - loss: 0.0112 - acc: 0.9967 - val_loss: 12.2471 - val_acc: 0.0033\n"
          ],
          "name": "stdout"
        }
      ]
    },
    {
      "cell_type": "code",
      "metadata": {
        "scrolled": true,
        "id": "kwsDR0qYg_5H",
        "colab_type": "code",
        "outputId": "e8168fce-3c7b-4c74-81c9-0ef837201f3e",
        "colab": {
          "base_uri": "https://localhost:8080/",
          "height": 424
        }
      },
      "source": [
        "# Plotting loss and accuracy versus training epochs\n",
        "def plot_model(history):\n",
        "    tr_loss = history.history['loss']\n",
        "    tr_accuracy = history.history['acc']\n",
        "\n",
        "    val_loss = history.history['val_loss']\n",
        "    val_accuracy = history.history['val_acc']\n",
        "\n",
        "    epochs= range(1, len(tr_loss)+1)\n",
        "\n",
        "    plt.figure(figsize =(14,6))\n",
        "    plt.subplot(1,2,1)\n",
        "    plt.plot(epochs, tr_loss, 'r')\n",
        "    plt.plot(epochs, val_loss, 'b')\n",
        "    plt.title('Model loss')\n",
        "    plt.ylabel('Loss')\n",
        "    plt.xlabel('Epoch')\n",
        "    plt.legend(['Training', 'Validation'], loc='best')\n",
        "\n",
        "    plt.subplot(1,2,2)\n",
        "    plt.plot(epochs, tr_accuracy, 'r')\n",
        "    plt.plot(epochs, val_accuracy, 'b')\n",
        "    plt.title('Model Accuracy')\n",
        "    plt.ylabel('Accuracy')\n",
        "    plt.xlabel('Epoch')\n",
        "    plt.legend(['Training', 'Validation'], loc='best')\n",
        "    plt.show()\n",
        "    \n",
        "\n",
        "    \n",
        "plot_model(history)"
      ],
      "execution_count": 0,
      "outputs": [
        {
          "output_type": "display_data",
          "data": {
            "image/png": "[encoded data removed]",
            "text/plain": [
              "<Figure size 1008x432 with 2 Axes>"
            ]
          },
          "metadata": {
            "tags": []
          }
        }
      ]
    },
    {
      "cell_type": "code",
      "metadata": {
        "id": "6O1Ko6jGg_5K",
        "colab_type": "code",
        "outputId": "21b1d13e-86b5-4619-965d-7a06fa001293",
        "colab": {
          "base_uri": "https://localhost:8080/",
          "height": 51
        }
      },
      "source": [
        "# Evaluating the model over test set\n",
        "score,acc = model.evaluate(X_test, y_test, verbose=0)\n",
        "\n",
        "print('Test score:',score )\n",
        "print('Test accuracy:',acc )"
      ],
      "execution_count": 0,
      "outputs": [
        {
          "output_type": "stream",
          "text": [
            "Test score: 13.190985580444336\n",
            "Test accuracy: 0.14200000047683717\n"
          ],
          "name": "stdout"
        }
      ]
    },
    {
      "cell_type": "markdown",
      "metadata": {
        "id": "xzPxcO9ig_5N",
        "colab_type": "text"
      },
      "source": [
        "## Time-Frequency Domain Model <a id='time_freq_model'></a>"
      ]
    },
    {
      "cell_type": "markdown",
      "metadata": {
        "id": "3wI0sZ61g_5O",
        "colab_type": "text"
      },
      "source": [
        "&#x270d; Now, creating a model based on time-frequency domain input signals and evaluating its performance.\n",
        "\n",
        "Frequency domain will be obtained using abs(the output from stft) "
      ]
    },
    {
      "cell_type": "code",
      "metadata": {
        "id": "6G1U3Tgdg_5Q",
        "colab_type": "code",
        "colab": {}
      },
      "source": [
        "audio_path = os.path.join(os.getcwd(), '/content/drive/My Drive/free-spoken-digit-dataset-master/free-spoken-digit-dataset-master/recordings')\n",
        "audio_files = os.listdir(audio_path) \n",
        "\n",
        "X_train, y_train = [], []\n",
        "X_test, y_test = [], []\n",
        "for audio_file in audio_files:\n",
        "    \n",
        "    audio, sr = librosa.load(audio_path +'/'+ audio_file, sr = None)\n",
        "    \n",
        "    X = pad(audio, int(audio_duration_sec*sr))\n",
        "    \n",
        "    spectrogram = np.abs(librosa.stft(X))\n",
        "    \n",
        "    label = audio_file.split('_')[0]\n",
        "    speaker = audio_file.split('_')[1]\n",
        "    \n",
        "    if (speaker=='jackson'):\n",
        "        X_test.append(spectrogram)\n",
        "        y_test.append(label)\n",
        "    else:\n",
        "        X_train.append(spectrogram)\n",
        "        y_train.append(label)\n",
        "        \n",
        "X_train = np.asarray(X_train)\n",
        "y_train = np.asarray(y_train)\n",
        "\n",
        "X_test = np.asarray(X_test)\n",
        "y_test = np.asarray(y_test)"
      ],
      "execution_count": 0,
      "outputs": []
    },
    {
      "cell_type": "code",
      "metadata": {
        "id": "nkP7iEeih87h",
        "colab_type": "code",
        "colab": {}
      },
      "source": [
        "X_train = X_train.reshape(-1, X_train.shape[1], X_train.shape[2], 1)\n",
        "X_test = X_test.reshape(-1, X_test.shape[1], X_test.shape[2], 1)"
      ],
      "execution_count": 0,
      "outputs": []
    },
    {
      "cell_type": "code",
      "metadata": {
        "id": "GK_PFsWpg_5T",
        "colab_type": "code",
        "outputId": "d55e6259-cb0c-4aac-f361-f301a657fb01",
        "colab": {
          "base_uri": "https://localhost:8080/",
          "height": 51
        }
      },
      "source": [
        "print('X_train shape:', X_train.shape)\n",
        "print('X_test shape:', X_test.shape)"
      ],
      "execution_count": 0,
      "outputs": [
        {
          "output_type": "stream",
          "text": [
            "X_train shape: (1510, 1025, 16, 1)\n",
            "X_test shape: (500, 1025, 16, 1)\n"
          ],
          "name": "stdout"
        }
      ]
    },
    {
      "cell_type": "code",
      "metadata": {
        "id": "ZzjfdOu5nITg",
        "colab_type": "code",
        "colab": {}
      },
      "source": [
        "y_train = to_categorical(y_train)\n",
        "y_test = to_categorical(y_test)"
      ],
      "execution_count": 0,
      "outputs": []
    },
    {
      "cell_type": "code",
      "metadata": {
        "id": "lNBsaXL9g_5W",
        "colab_type": "code",
        "outputId": "f37fd723-ccc9-4586-c24c-6b0aa557a237",
        "colab": {
          "base_uri": "https://localhost:8080/",
          "height": 51
        }
      },
      "source": [
        "print('y_train shape:', y_train.shape)\n",
        "print('y_test shape:', y_test.shape)"
      ],
      "execution_count": 0,
      "outputs": [
        {
          "output_type": "stream",
          "text": [
            "y_train shape: (1510, 10)\n",
            "y_test shape: (500, 10)\n"
          ],
          "name": "stdout"
        }
      ]
    },
    {
      "cell_type": "code",
      "metadata": {
        "id": "ceJJlO0tg_5c",
        "colab_type": "code",
        "outputId": "2f38d285-0357-406b-ab7e-345f85918852",
        "colab": {
          "base_uri": "https://localhost:8080/",
          "height": 493
        }
      },
      "source": [
        "# Creating the model\n",
        "from keras.layers import Conv2D, MaxPooling2D, Flatten\n",
        "\n",
        "model = Sequential()\n",
        "model.add(Conv2D(32, kernel_size=(3, 3), strides=1, activation='relu', input_shape=X_train[0].shape))\n",
        "model.add(MaxPooling2D(pool_size =(2, 2)))\n",
        "model.add(Dropout(0.25))\n",
        "\n",
        "model.add(Conv2D(64, (3, 3), activation='relu'))\n",
        "model.add(MaxPooling2D(pool_size=(2, 2)))\n",
        "model.add(Dropout(0.25))\n",
        "\n",
        "model.add(Flatten())\n",
        "\n",
        "model.add(Dense(128, activation='relu'))\n",
        "model.add(Dropout(0.5))\n",
        "\n",
        "model.add(Dense(10,activation='softmax'))\n",
        "model.summary()\n"
      ],
      "execution_count": 0,
      "outputs": [
        {
          "output_type": "stream",
          "text": [
            "Model: \"sequential_9\"\n",
            "_________________________________________________________________\n",
            "Layer (type)                 Output Shape              Param #   \n",
            "=================================================================\n",
            "conv2d_5 (Conv2D)            (None, 1023, 14, 32)      320       \n",
            "_________________________________________________________________\n",
            "max_pooling2d_3 (MaxPooling2 (None, 511, 7, 32)        0         \n",
            "_________________________________________________________________\n",
            "dropout_18 (Dropout)         (None, 511, 7, 32)        0         \n",
            "_________________________________________________________________\n",
            "conv2d_6 (Conv2D)            (None, 509, 5, 64)        18496     \n",
            "_________________________________________________________________\n",
            "max_pooling2d_4 (MaxPooling2 (None, 254, 2, 64)        0         \n",
            "_________________________________________________________________\n",
            "dropout_19 (Dropout)         (None, 254, 2, 64)        0         \n",
            "_________________________________________________________________\n",
            "flatten_2 (Flatten)          (None, 32512)             0         \n",
            "_________________________________________________________________\n",
            "dense_23 (Dense)             (None, 128)               4161664   \n",
            "_________________________________________________________________\n",
            "dropout_20 (Dropout)         (None, 128)               0         \n",
            "_________________________________________________________________\n",
            "dense_24 (Dense)             (None, 10)                1290      \n",
            "=================================================================\n",
            "Total params: 4,181,770\n",
            "Trainable params: 4,181,770\n",
            "Non-trainable params: 0\n",
            "_________________________________________________________________\n"
          ],
          "name": "stdout"
        }
      ]
    },
    {
      "cell_type": "code",
      "metadata": {
        "id": "2TuUhNu8g_5h",
        "colab_type": "code",
        "outputId": "06b2e6fb-1e4b-474e-e487-621086be5f10",
        "colab": {
          "base_uri": "https://localhost:8080/",
          "height": 564
        }
      },
      "source": [
        "# Compile the model\n",
        "model.compile(loss='categorical_crossentropy', optimizer='adam', metrics=['accuracy'])\n",
        "\n",
        "# Fit the model\n",
        "history = model.fit(X_train, y_train, epochs=15, batch_size=64, validation_split=0.2, shuffle=True, verbose= 1)"
      ],
      "execution_count": 0,
      "outputs": [
        {
          "output_type": "stream",
          "text": [
            "Train on 1208 samples, validate on 302 samples\n",
            "Epoch 1/15\n",
            "1208/1208 [==============================] - 21s 18ms/step - loss: 1.5967 - acc: 0.4561 - val_loss: 5.0200 - val_acc: 0.0000e+00\n",
            "Epoch 2/15\n",
            "1208/1208 [==============================] - 20s 17ms/step - loss: 0.9330 - acc: 0.7136 - val_loss: 6.1741 - val_acc: 0.0000e+00\n",
            "Epoch 3/15\n",
            "1208/1208 [==============================] - 20s 17ms/step - loss: 0.6383 - acc: 0.7848 - val_loss: 7.1236 - val_acc: 0.0066\n",
            "Epoch 4/15\n",
            "1208/1208 [==============================] - 20s 17ms/step - loss: 0.5491 - acc: 0.8336 - val_loss: 7.8618 - val_acc: 0.0728\n",
            "Epoch 5/15\n",
            "1208/1208 [==============================] - 20s 17ms/step - loss: 0.4423 - acc: 0.8618 - val_loss: 7.5281 - val_acc: 0.0530\n",
            "Epoch 6/15\n",
            "1208/1208 [==============================] - 20s 17ms/step - loss: 0.3031 - acc: 0.9048 - val_loss: 9.4100 - val_acc: 0.0596\n",
            "Epoch 7/15\n",
            "1208/1208 [==============================] - 20s 17ms/step - loss: 0.2627 - acc: 0.9172 - val_loss: 9.2066 - val_acc: 0.0331\n",
            "Epoch 8/15\n",
            "1208/1208 [==============================] - 20s 17ms/step - loss: 0.2522 - acc: 0.9247 - val_loss: 9.7531 - val_acc: 0.0497\n",
            "Epoch 9/15\n",
            "1208/1208 [==============================] - 20s 17ms/step - loss: 0.2086 - acc: 0.9346 - val_loss: 10.1285 - val_acc: 0.0397\n",
            "Epoch 10/15\n",
            "1208/1208 [==============================] - 20s 17ms/step - loss: 0.2072 - acc: 0.9313 - val_loss: 9.5019 - val_acc: 0.0397\n",
            "Epoch 11/15\n",
            "1208/1208 [==============================] - 20s 17ms/step - loss: 0.1868 - acc: 0.9396 - val_loss: 9.7548 - val_acc: 0.0695\n",
            "Epoch 12/15\n",
            "1208/1208 [==============================] - 20s 17ms/step - loss: 0.1752 - acc: 0.9421 - val_loss: 10.3370 - val_acc: 0.0861\n",
            "Epoch 13/15\n",
            "1208/1208 [==============================] - 20s 17ms/step - loss: 0.2066 - acc: 0.9379 - val_loss: 10.1492 - val_acc: 0.0795\n",
            "Epoch 14/15\n",
            "1208/1208 [==============================] - 21s 17ms/step - loss: 0.1391 - acc: 0.9545 - val_loss: 11.0222 - val_acc: 0.0629\n",
            "Epoch 15/15\n",
            "1208/1208 [==============================] - 21s 17ms/step - loss: 0.1404 - acc: 0.9611 - val_loss: 9.7334 - val_acc: 0.1026\n"
          ],
          "name": "stdout"
        }
      ]
    },
    {
      "cell_type": "code",
      "metadata": {
        "id": "zSmF-rwDg_5j",
        "colab_type": "code",
        "outputId": "92df3118-b56f-4b41-a090-18dca98a04fc",
        "colab": {
          "base_uri": "https://localhost:8080/",
          "height": 424
        }
      },
      "source": [
        "plot_model(history)"
      ],
      "execution_count": 0,
      "outputs": [
        {
          "output_type": "display_data",
          "data": {
            "image/png": "[encoded data removed]",
            "text/plain": [
              "<Figure size 1008x432 with 2 Axes>"
            ]
          },
          "metadata": {
            "tags": []
          }
        }
      ]
    },
    {
      "cell_type": "code",
      "metadata": {
        "id": "zjiFbXu3g_5l",
        "colab_type": "code",
        "outputId": "4020b27d-cf9a-4a4c-d669-f676bed20b70",
        "colab": {
          "base_uri": "https://localhost:8080/",
          "height": 51
        }
      },
      "source": [
        "print('Test score:', score)\n",
        "print('Test accuracy:',acc )"
      ],
      "execution_count": 0,
      "outputs": [
        {
          "output_type": "stream",
          "text": [
            "Test score: 13.190985580444336\n",
            "Test accuracy: 0.14200000047683717\n"
          ],
          "name": "stdout"
        }
      ]
    },
    {
      "cell_type": "code",
      "metadata": {
        "id": "_ezI55X-edhS",
        "colab_type": "code",
        "colab": {}
      },
      "source": [
        ""
      ],
      "execution_count": 0,
      "outputs": []
    }
  ]
}